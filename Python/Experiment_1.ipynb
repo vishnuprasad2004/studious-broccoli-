{
 "cells": [
  {
   "cell_type": "markdown",
   "metadata": {},
   "source": [
    "# Assignment 1\n",
    "Date: 5th Feb 2024"
   ]
  },
  {
   "cell_type": "code",
   "execution_count": 10,
   "metadata": {},
   "outputs": [
    {
     "name": "stdout",
     "output_type": "stream",
     "text": [
      "Area:6.0\n"
     ]
    }
   ],
   "source": [
    "#1. wap to enter 3 sides of a triangle. Find out the area of the triangle\n",
    "from math import sqrt\n",
    "a,b,c = map(int,input(\"Enter 3 sides:\").split())\n",
    "s = (a + b + c) / 2\n",
    "area = sqrt(s * (s - a) * (s - b) * (s - c))\n",
    "print(f\"Area:{area}\")"
   ]
  },
  {
   "cell_type": "code",
   "execution_count": 4,
   "metadata": {},
   "outputs": [
    {
     "name": "stdout",
     "output_type": "stream",
     "text": [
      "Binary: 1010, Octal: 12, Hexadecimal: a\n"
     ]
    }
   ],
   "source": [
    "#2. enter an integer no. and find out its binary ,hexadecimal and octal equivalents.\n",
    "n = int(input(\"Enter the number:\"))\n",
    "print(f\"Binary: {bin(n)[2:]}, Octal: {oct(n)[2:]}, Hexadecimal: {hex(n)[2:]}\")"
   ]
  },
  {
   "cell_type": "code",
   "execution_count": 5,
   "metadata": {},
   "outputs": [
    {
     "name": "stdout",
     "output_type": "stream",
     "text": [
      "The roots are 3.732050807568877 and 0.2679491924311228\n"
     ]
    }
   ],
   "source": [
    "#3. enter the coefficients of quadratic equation and find out the roots\n",
    "from math import sqrt\n",
    "a,b,c = map(float,input(\"Enter the coefficents:\").split())\n",
    "D = sqrt(b ** 2 - 4 * a * c)\n",
    "x1 = (b + D) / (2 * a)\n",
    "x2 = (b - D) / (2 * a)\n",
    "print(f\"The roots are {x1} and {x2}\")"
   ]
  },
  {
   "cell_type": "code",
   "execution_count": 6,
   "metadata": {},
   "outputs": [
    {
     "name": "stdout",
     "output_type": "stream",
     "text": [
      "Temperature in  celcius 35.0\n"
     ]
    }
   ],
   "source": [
    "#4. enter the temperature in farenheit and convert it to celcius\n",
    "f = int(input(\"Enter the temperature in °F:\"))\n",
    "c =  (f - 32) * (5/9)\n",
    "print(f\"Temperature in celcius {c}\")"
   ]
  },
  {
   "cell_type": "code",
   "execution_count": 7,
   "metadata": {},
   "outputs": [
    {
     "name": "stdout",
     "output_type": "stream",
     "text": [
      "In kilometers: 20.0\n"
     ]
    }
   ],
   "source": [
    "#5.  metre to kilometer conversion\n",
    "m = int(input(\"Enter in distance in metres:\"))\n",
    "print(f\"In kilometers: {(m/1000)}\")"
   ]
  },
  {
   "cell_type": "code",
   "execution_count": 8,
   "metadata": {},
   "outputs": [
    {
     "name": "stdout",
     "output_type": "stream",
     "text": [
      "Hours:100 Minutes: 0\n"
     ]
    }
   ],
   "source": [
    "#6. enter the time in minutes and print in hours and minutes\n",
    "mins = int(input(\"Enter time in minutes:\"))\n",
    "print(f\"Hours:{mins//60} Minutes: {mins%60}\")"
   ]
  }
 ],
 "metadata": {
  "kernelspec": {
   "display_name": "base",
   "language": "python",
   "name": "python3"
  },
  "language_info": {
   "codemirror_mode": {
    "name": "ipython",
    "version": 3
   },
   "file_extension": ".py",
   "mimetype": "text/x-python",
   "name": "python",
   "nbconvert_exporter": "python",
   "pygments_lexer": "ipython3",
   "version": "3.11.5"
  }
 },
 "nbformat": 4,
 "nbformat_minor": 2
}
