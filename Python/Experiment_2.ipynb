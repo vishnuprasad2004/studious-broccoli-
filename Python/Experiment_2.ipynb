{
 "cells": [
  {
   "cell_type": "markdown",
   "metadata": {},
   "source": [
    "# Assignment 2\n",
    "Date: 5th Feb 2024"
   ]
  },
  {
   "cell_type": "code",
   "execution_count": 1,
   "metadata": {},
   "outputs": [
    {
     "name": "stdout",
     "output_type": "stream",
     "text": [
      "Grade: E\n"
     ]
    }
   ],
   "source": [
    "#1. enter a percentage and display the gradation system\n",
    "p = int(input(\"Enter the percentage:\"))\n",
    "if p > 90:\n",
    "    print(\"Grade: O\")\n",
    "elif p > 80 and p <= 90:\n",
    "    print(\"Grade: E\")\n",
    "elif p > 60 and p <= 80:\n",
    "    print(\"Grade: A\")\n",
    "elif p > 50 and p <= 60:\n",
    "    print(\"Grade: B\")\n",
    "elif p > 30 and p <= 50:\n",
    "    print(\"Grade: C\")\n",
    "elif p > 20 and p <= 30:\n",
    "    print(\"Grade: D\")\n",
    "else:\n",
    "    print(\"Fail\")"
   ]
  },
  {
   "cell_type": "code",
   "execution_count": 2,
   "metadata": {},
   "outputs": [
    {
     "name": "stdout",
     "output_type": "stream",
     "text": [
      "1 3 5 "
     ]
    }
   ],
   "source": [
    "#2. enter a number and find out the digits in the odd locations\n",
    "n = int(input(\"Enter a number:\"))\n",
    "n = str(n)\n",
    "for i in range(0,len(n),2):\n",
    "    print(n[i],end=\" \")"
   ]
  },
  {
   "cell_type": "code",
   "execution_count": 6,
   "metadata": {},
   "outputs": [
    {
     "name": "stdout",
     "output_type": "stream",
     "text": [
      "Palindrome\n"
     ]
    }
   ],
   "source": [
    "#3. enter a number and check if its a palindrome or not\n",
    "n = int(input(\"Enter a number:\"))\n",
    "n1 = n\n",
    "rev = 0\n",
    "while(n1>0):\n",
    "    rev = rev*10 + (n1%10)\n",
    "    n1 = n1 // 10\n",
    "if n == rev:\n",
    "    print(\"Palindrome\")\n",
    "else:\n",
    "    print(\"Not Palindrome\")"
   ]
  },
  {
   "cell_type": "code",
   "execution_count": 8,
   "metadata": {},
   "outputs": [
    {
     "name": "stdout",
     "output_type": "stream",
     "text": [
      "Perfect\n"
     ]
    }
   ],
   "source": [
    "#4. enter a number and check if it is perfect or not\n",
    "n = int(input(\"Enter a number:\"))\n",
    "sum = 0\n",
    "for i in range(1,n):\n",
    "    if n % i == 0:\n",
    "        sum = sum + i\n",
    "print(\"Perfect\" if sum == n else \"Not Perfect\")"
   ]
  },
  {
   "cell_type": "code",
   "execution_count": 10,
   "metadata": {},
   "outputs": [
    {
     "name": "stdout",
     "output_type": "stream",
     "text": [
      "Reverse of string: elppa\n",
      "Vowel count: 2 and Consonent count: 3\n"
     ]
    }
   ],
   "source": [
    "#5. enter a string and print reverse of string and print the no of vowels and consonents\n",
    "s = input(\"Enter the String:\")\n",
    "print(f\"Reverse of string: {s[::-1]}\")\n",
    "v_count, c_count = 0,0\n",
    "for char in s.lower():\n",
    "    if char in [\"a\",\"e\",\"i\",\"o\",\"u\"]:\n",
    "        v_count = v_count + 1\n",
    "    else:\n",
    "        c_count = c_count + 1\n",
    "print(f\"Vowel count: {v_count} and Consonent count: {c_count}\") "
   ]
  }
 ],
 "metadata": {
  "kernelspec": {
   "display_name": "base",
   "language": "python",
   "name": "python3"
  },
  "language_info": {
   "codemirror_mode": {
    "name": "ipython",
    "version": 3
   },
   "file_extension": ".py",
   "mimetype": "text/x-python",
   "name": "python",
   "nbconvert_exporter": "python",
   "pygments_lexer": "ipython3",
   "version": "3.11.5"
  }
 },
 "nbformat": 4,
 "nbformat_minor": 2
}
