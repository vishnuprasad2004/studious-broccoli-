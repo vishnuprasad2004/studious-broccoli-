{
 "cells": [
  {
   "cell_type": "markdown",
   "metadata": {},
   "source": [
    "# Assignment 4"
   ]
  },
  {
   "cell_type": "code",
   "execution_count": 2,
   "metadata": {},
   "outputs": [
    {
     "name": "stdout",
     "output_type": "stream",
     "text": [
      "8\n"
     ]
    }
   ],
   "source": [
    "#1.WAP to print the second largest and second smallest element in a list of 10 integers without using sort function.\n",
    "lst = list(map(int,input().split()))\n",
    "fl,sl = 0,0\n",
    "fs,ss = 1000,1000\n",
    "for i in lst:\n",
    "    fl = max(fl,i)\n",
    "    fs = min(fs,i)\n",
    "for i in lst:\n",
    "    if i == fl: \n",
    "        continue\n",
    "    else: \n",
    "        sl = sl if sl > i else i\n",
    "for i in lst:\n",
    "    if i == fs: continue\n",
    "    else:\n",
    "        ss = ss if ss < i else i\n",
    "print(sl)\n"
   ]
  },
  {
   "cell_type": "code",
   "execution_count": 1,
   "metadata": {},
   "outputs": [
    {
     "name": "stdout",
     "output_type": "stream",
     "text": [
      "1, a\n",
      "2, s\n",
      "3, d\n",
      "4, f\n",
      "5, g\n"
     ]
    }
   ],
   "source": [
    "#2.WAP to create two lists first list containing 5 integers and second list containing 5 strings.print both the lists one element from each list combined at a time.\n",
    "nums = list(map(int,input(\"Enter numbers:(5)\").split()))\n",
    "strs = list(input(\"Enter Strings:(5)\").split())\n",
    "for n,s in zip(nums,strs):\n",
    "    print(n,s,sep=\", \")"
   ]
  },
  {
   "cell_type": "code",
   "execution_count": 10,
   "metadata": {},
   "outputs": [
    {
     "name": "stdout",
     "output_type": "stream",
     "text": [
      "[1, 2, 3, 4, 5, 6, 7, 8, 9]\n",
      "[6, 2, 8, 4, 10, 6, 12, 8, 14]\n"
     ]
    }
   ],
   "source": [
    "#3.WAP to create an integer list of 20 elements increase the odd valued elements by 5.\n",
    "nums = list(map(int,input(\"Enter numbers:(20)\").split()))\n",
    "print(nums)\n",
    "for i in range(len(nums)):\n",
    "    if nums[i] % 2 != 0: \n",
    "        nums[i] = nums[i] + 5\n",
    "print(nums)"
   ]
  },
  {
   "cell_type": "code",
   "execution_count": 11,
   "metadata": {},
   "outputs": [
    {
     "name": "stdout",
     "output_type": "stream",
     "text": [
      "1 2 3 5 8 13 21 34 55 89 \n"
     ]
    }
   ],
   "source": [
    "#4.WAP to create a function that prints the first n terms of the fibonacci series without using recursion.\n",
    "n = int(input(\"Enter the number:\"))\n",
    "num1 = 0\n",
    "num2 = 1\n",
    "next_number = num2  \n",
    "count = 1\n",
    " \n",
    "while count <= n:\n",
    "    print(next_number, end=\" \")\n",
    "    count += 1\n",
    "    num1, num2 = num2, next_number\n",
    "    next_number = num1 + num2\n",
    "print()"
   ]
  },
  {
   "cell_type": "code",
   "execution_count": 12,
   "metadata": {},
   "outputs": [
    {
     "name": "stdout",
     "output_type": "stream",
     "text": [
      "[2, 4, 6, 8, 10, 12]\n"
     ]
    }
   ],
   "source": [
    "#5.WAP to create a function that takes list as argument and returns the even values of the list.Print the new list with even values.\n",
    "\n",
    "def even_out_of_list(lst):\n",
    "    evens = []\n",
    "    for i in lst:\n",
    "        if i % 2 == 0:\n",
    "            evens.append(i)\n",
    "    return evens\n",
    "\n",
    "evens = even_out_of_list([1,2,3,4,5,6,7,8,9,10,12])\n",
    "print(evens)"
   ]
  },
  {
   "cell_type": "code",
   "execution_count": 14,
   "metadata": {},
   "outputs": [
    {
     "data": {
      "text/plain": [
       "3628800"
      ]
     },
     "execution_count": 14,
     "metadata": {},
     "output_type": "execute_result"
    }
   ],
   "source": [
    "#6.WAP to calculate factorial of a number using recursion.\n",
    "\n",
    "def fac(n):\n",
    "    if n == 0 or n == 1:\n",
    "        return 1\n",
    "    return n * fac(n-1)\n",
    "\n",
    "fac(10)"
   ]
  },
  {
   "cell_type": "code",
   "execution_count": 20,
   "metadata": {},
   "outputs": [
    {
     "data": {
      "text/plain": [
       "354224848179261915075"
      ]
     },
     "execution_count": 20,
     "metadata": {},
     "output_type": "execute_result"
    }
   ],
   "source": [
    "# extra -> fibonnaci with dp and recusion\n",
    "dp = {}\n",
    "def fib(n):\n",
    "    if n == 1 or n == 2:\n",
    "        return 1\n",
    "    if n in dp:\n",
    "        return dp[n]\n",
    "    dp[n] = fib(n-1) + fib(n-2) \n",
    "    return dp[n]\n",
    "\n",
    "fib(100) \n",
    "\n",
    "# for fib(100) without dp time => 2 minutes\n",
    "# for fib(100) with dp time => 0.001 seconds"
   ]
  }
 ],
 "metadata": {
  "kernelspec": {
   "display_name": "base",
   "language": "python",
   "name": "python3"
  },
  "language_info": {
   "codemirror_mode": {
    "name": "ipython",
    "version": 3
   },
   "file_extension": ".py",
   "mimetype": "text/x-python",
   "name": "python",
   "nbconvert_exporter": "python",
   "pygments_lexer": "ipython3",
   "version": "3.11.5"
  }
 },
 "nbformat": 4,
 "nbformat_minor": 2
}
