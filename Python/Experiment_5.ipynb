{
 "cells": [
  {
   "cell_type": "markdown",
   "metadata": {},
   "source": [
    "# Assignment 5"
   ]
  },
  {
   "cell_type": "code",
   "execution_count": 1,
   "metadata": {},
   "outputs": [
    {
     "name": "stdout",
     "output_type": "stream",
     "text": [
      "{'1': '1', '2': '2', '3': '3', '4': '4', '5': '5'}\n"
     ]
    }
   ],
   "source": [
    "# WAP to input 2 dictionaries and print the values by merging the 2 dictionaries. ::HINT Use update() method\n",
    "d = {}\n",
    "for _ in range(int(input(\"Enter n:\"))):\n",
    "    key = input(\"key:\")\n",
    "    value = input(\"value:\")\n",
    "    d[key] = value\n",
    "d1 = {}\n",
    "for _ in range(int(input(\"Enter n:\"))):\n",
    "    key = input(\"key:\")\n",
    "    value = input(\"value:\")\n",
    "    d1[key] = value\n",
    "d.update(d1)\n",
    "print(d)"
   ]
  }
 ],
 "metadata": {
  "kernelspec": {
   "display_name": "base",
   "language": "python",
   "name": "python3"
  },
  "language_info": {
   "codemirror_mode": {
    "name": "ipython",
    "version": 3
   },
   "file_extension": ".py",
   "mimetype": "text/x-python",
   "name": "python",
   "nbconvert_exporter": "python",
   "pygments_lexer": "ipython3",
   "version": "3.11.5"
  }
 },
 "nbformat": 4,
 "nbformat_minor": 2
}
