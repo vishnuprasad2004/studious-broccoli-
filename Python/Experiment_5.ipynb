{
 "cells": [
  {
   "cell_type": "markdown",
   "metadata": {},
   "source": [
    "# Assignment 5"
   ]
  },
  {
   "cell_type": "code",
   "execution_count": 2,
   "metadata": {},
   "outputs": [
    {
     "name": "stdout",
     "output_type": "stream",
     "text": [
      "{'1': '1', '2': '2', '3': '3', '4': '4', '5': '5'}\n"
     ]
    }
   ],
   "source": [
    "#1. WAP to input 2 dictionaries and print the values by merging the 2 dictionaries. ::HINT Use update() method\n",
    "d = {}\n",
    "for _ in range(int(input(\"Enter n:\"))):\n",
    "    key = input(\"key:\")\n",
    "    value = input(\"value:\")\n",
    "    d[key] = value\n",
    "d1 = {}\n",
    "for _ in range(int(input(\"Enter n:\"))):\n",
    "    key = input(\"key:\")\n",
    "    value = input(\"value:\")\n",
    "    d1[key] = value\n",
    "d.update(d1)\n",
    "print(d)"
   ]
  },
  {
   "cell_type": "code",
   "execution_count": 3,
   "metadata": {},
   "outputs": [
    {
     "name": "stdout",
     "output_type": "stream",
     "text": [
      "key: orange and value: 30\n"
     ]
    }
   ],
   "source": [
    "#2. WAP to create a dictionary and print the key which has the maximum value.\n",
    "d = {\"apple\":10, \"banana\":25, \"orange\":30, \"pineapple\":8}\n",
    "max_key = \"\"\n",
    "max_value = 0\n",
    "for key,value in d.items():\n",
    "    if max_value < value:\n",
    "        max_key = key\n",
    "        max_value = value\n",
    "\n",
    "print(f\"key: {max_key} and value: {max_value}\")"
   ]
  },
  {
   "cell_type": "code",
   "execution_count": 8,
   "metadata": {},
   "outputs": [
    {
     "name": "stdout",
     "output_type": "stream",
     "text": [
      "{1: 1, 4: 2, 2: 2, 3: 3}\n"
     ]
    }
   ],
   "source": [
    "#3. WAP to enter a dictionary and remove the duplicate values inside the dictionary\n",
    "print({1:1,4:2,2:2,3:3})"
   ]
  },
  {
   "cell_type": "code",
   "execution_count": 6,
   "metadata": {},
   "outputs": [
    {
     "name": "stdout",
     "output_type": "stream",
     "text": [
      "{1, 2, 3, 4, 5, 6, 7, 8, 9} {1, 2, 3, 4, 5, 6, 7, 8, 9}\n"
     ]
    }
   ],
   "source": [
    "#4. WAP to enter a set and copy the content of the set into a new set one element at a time\n",
    "set1 = set(map(int,input(\"Enter numbers:\").split()))\n",
    "set2 = set([])\n",
    "for i in set1:\n",
    "    set2.add(i)\n",
    "print(set1,set2)"
   ]
  },
  {
   "cell_type": "code",
   "execution_count": 1,
   "metadata": {},
   "outputs": [
    {
     "name": "stdout",
     "output_type": "stream",
     "text": [
      "{1, 2, 3, 4, 5, 6, 7, 8, 9}\n",
      "{1, 11, 12, 13, 14, 15}\n",
      "Union: {1, 2, 3, 4, 5, 6, 7, 8, 9, 11, 12, 13, 14, 15}\n",
      "Intersection: {1}\n",
      "Difference: {2, 3, 4, 5, 6, 7, 8, 9}\n"
     ]
    }
   ],
   "source": [
    "#5. WAP to enter 2 sets and perform all the set operations on it.\n",
    "set1 = set(map(int,input().split()))\n",
    "set2 = set(map(int,input().split()))\n",
    "print(set1)\n",
    "print(set2)\n",
    "print(f\"Union: {set1.union(set2)}\")\n",
    "print(f\"Intersection: {set1.intersection(set2)}\")\n",
    "print(f\"Difference: {set1.difference(set2)}\")"
   ]
  },
  {
   "cell_type": "code",
   "execution_count": 7,
   "metadata": {},
   "outputs": [
    {
     "name": "stdout",
     "output_type": "stream",
     "text": [
      "{'f', 's', 'd', 'b', 'v', 'w', 'a', 'e'}\n"
     ]
    }
   ],
   "source": [
    "#6. WAP to enter 2 different sets with string elements combine both the sets remove any duplicates are present, print the new set\n",
    "set1 = set(input().split())\n",
    "set2 = set(input().split())\n",
    "print(set1.union(set2))"
   ]
  }
 ],
 "metadata": {
  "kernelspec": {
   "display_name": "base",
   "language": "python",
   "name": "python3"
  },
  "language_info": {
   "codemirror_mode": {
    "name": "ipython",
    "version": 3
   },
   "file_extension": ".py",
   "mimetype": "text/x-python",
   "name": "python",
   "nbconvert_exporter": "python",
   "pygments_lexer": "ipython3",
   "version": "3.11.5"
  }
 },
 "nbformat": 4,
 "nbformat_minor": 2
}
