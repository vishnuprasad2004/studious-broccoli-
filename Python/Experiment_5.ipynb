{
 "cells": [
  {
   "cell_type": "markdown",
   "metadata": {},
   "source": [
    "# Assignment 5"
   ]
  },
  {
   "cell_type": "code",
   "execution_count": 2,
   "metadata": {},
   "outputs": [
    {
     "name": "stdout",
     "output_type": "stream",
     "text": [
      "{'1': '1', '2': '2', '3': '3', '4': '4', '5': '5'}\n"
     ]
    }
   ],
   "source": [
    "# WAP to input 2 dictionaries and print the values by merging the 2 dictionaries. ::HINT Use update() method\n",
    "d = {}\n",
    "for _ in range(int(input(\"Enter n:\"))):\n",
    "    key = input(\"key:\")\n",
    "    value = input(\"value:\")\n",
    "    d[key] = value\n",
    "d1 = {}\n",
    "for _ in range(int(input(\"Enter n:\"))):\n",
    "    key = input(\"key:\")\n",
    "    value = input(\"value:\")\n",
    "    d1[key] = value\n",
    "d.update(d1)\n",
    "print(d)"
   ]
  },
  {
   "cell_type": "code",
   "execution_count": 3,
   "metadata": {},
   "outputs": [
    {
     "name": "stdout",
     "output_type": "stream",
     "text": [
      "key: orange and value: 30\n"
     ]
    }
   ],
   "source": [
    "# WAP to create a dictionary and print the key which has the maximum value.\n",
    "d = {\"apple\":10, \"banana\":25, \"orange\":30, \"pineapple\":8}\n",
    "max_key = \"\"\n",
    "max_value = 0\n",
    "for key,value in d.items():\n",
    "    if max_value < value:\n",
    "        max_key = key\n",
    "        max_value = value\n",
    "\n",
    "print(f\"key: {max_key} and value: {max_value}\")"
   ]
  },
  {
   "cell_type": "code",
   "execution_count": 8,
   "metadata": {},
   "outputs": [
    {
     "name": "stdout",
     "output_type": "stream",
     "text": [
      "{1: 1, 4: 2, 2: 2, 3: 3}\n"
     ]
    }
   ],
   "source": [
    "# WAP to enter a dictionary and remove the duplicate values inside the dictionary\n",
    "print({1:1,4:2,2:2,3:3})"
   ]
  },
  {
   "cell_type": "code",
   "execution_count": 9,
   "metadata": {},
   "outputs": [
    {
     "name": "stdout",
     "output_type": "stream",
     "text": [
      "{1, 2, 3, 4, 5, 6, 12}\n"
     ]
    }
   ],
   "source": [
    "# WAP to enter a set and copy the content of the set into a new set one element at a time\n",
    "print(set([1,2,2,3,4,5,6,12,2]))"
   ]
  },
  {
   "cell_type": "code",
   "execution_count": 12,
   "metadata": {},
   "outputs": [
    {
     "name": "stdout",
     "output_type": "stream",
     "text": [
      "{1, 2, 3, 4, 5, 6, 7, 421, 46, 434, 221}\n"
     ]
    }
   ],
   "source": [
    "# WAP to enter 2 sets and perform all the set operations on it.\n",
    "set1 = set(map(int,input().split()))\n",
    "set2 = set(map(int,input().split()))\n",
    "print(set1)\n",
    "print(set2)\n",
    "print(f\"Union: {set1.union(set2)}\")\n",
    "print(f\"Intersection: {set1.intersection(set2)}\")"
   ]
  },
  {
   "cell_type": "code",
   "execution_count": null,
   "metadata": {},
   "outputs": [],
   "source": [
    "# WAP to enter 2 different sets with string elements combine both the sets remove any duplicates are present, print the new set\n"
   ]
  }
 ],
 "metadata": {
  "kernelspec": {
   "display_name": "base",
   "language": "python",
   "name": "python3"
  },
  "language_info": {
   "codemirror_mode": {
    "name": "ipython",
    "version": 3
   },
   "file_extension": ".py",
   "mimetype": "text/x-python",
   "name": "python",
   "nbconvert_exporter": "python",
   "pygments_lexer": "ipython3",
   "version": "3.11.5"
  }
 },
 "nbformat": 4,
 "nbformat_minor": 2
}
