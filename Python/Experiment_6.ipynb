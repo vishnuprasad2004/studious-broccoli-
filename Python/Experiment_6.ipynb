{
 "cells": [
  {
   "cell_type": "markdown",
   "metadata": {},
   "source": [
    "# Assignment 6\n",
    "Date: 18:03:2024"
   ]
  },
  {
   "cell_type": "code",
   "execution_count": 1,
   "metadata": {},
   "outputs": [
    {
     "name": "stdout",
     "output_type": "stream",
     "text": [
      "The original list is  [1, 1, 2, 3, 1, 5, 7, 3, 5, 1]\n",
      "[[1, 1, 1, 1], [2], [3, 3], [5, 5], [7]]\n"
     ]
    }
   ],
   "source": [
    "# WAP tp print a matrix containing group of similar elements by giving the input randomly in another matrix\n",
    "from collections import Counter\n",
    "test_lst = [1,1,2,3,1,5,7,3,5,1]\n",
    "print(\"The original list is \",test_lst)\n",
    "temp = Counter(test_lst)\n",
    "res = [[key]*val for key,val in temp.items()]\n",
    "print(res)"
   ]
  },
  {
   "cell_type": "code",
   "execution_count": 12,
   "metadata": {},
   "outputs": [
    {
     "ename": "SyntaxError",
     "evalue": "expected ':' (323377263.py, line 5)",
     "output_type": "error",
     "traceback": [
      "\u001b[1;36m  Cell \u001b[1;32mIn[12], line 5\u001b[1;36m\u001b[0m\n\u001b[1;33m    for i in range\u001b[0m\n\u001b[1;37m                  ^\u001b[0m\n\u001b[1;31mSyntaxError\u001b[0m\u001b[1;31m:\u001b[0m expected ':'\n"
     ]
    }
   ],
   "source": [
    "# WAP to print a matrix along with summation of row elements and column elements after entering a 3x3 matrix\n",
    "matrix = [[1,2,3],[1,2,3],[1,2,3]]\n",
    "for i in matrix: i.append(sum(i))\n",
    "for i in range(3): pass \n",
    "print(matrix)"
   ]
  },
  {
   "cell_type": "code",
   "execution_count": 19,
   "metadata": {},
   "outputs": [
    {
     "name": "stdout",
     "output_type": "stream",
     "text": [
      "[[1 1]\n",
      " [2 2]\n",
      " [3 3]\n",
      " [4 4]\n",
      " [5 5]\n",
      " [6 6]\n",
      " [7 7]\n",
      " [8 8]\n",
      " [9 9]\n",
      " [0 0]]\n"
     ]
    }
   ],
   "source": [
    "# WAP to print transpose of a matrix of order n*n\n",
    "import numpy as np\n",
    "r = int(input(\"how many rows:\"))\n",
    "print(np.array([list(map(int,input().split())) for _ in range(r)]).transpose())"
   ]
  },
  {
   "cell_type": "code",
   "execution_count": 1,
   "metadata": {},
   "outputs": [
    {
     "name": "stdout",
     "output_type": "stream",
     "text": [
      "True\n"
     ]
    }
   ],
   "source": [
    "# WAP to check if a value is present in the list or not using lambda function\n",
    "lst = list(map(int,input(\"Enter a list\").split()))\n",
    "a = int(input(\"Enter an item to find in the list:\"))\n",
    "find = lambda x: a in x\n",
    "print(find(lst))"
   ]
  }
 ],
 "metadata": {
  "kernelspec": {
   "display_name": "base",
   "language": "python",
   "name": "python3"
  },
  "language_info": {
   "codemirror_mode": {
    "name": "ipython",
    "version": 3
   },
   "file_extension": ".py",
   "mimetype": "text/x-python",
   "name": "python",
   "nbconvert_exporter": "python",
   "pygments_lexer": "ipython3",
   "version": "3.11.5"
  }
 },
 "nbformat": 4,
 "nbformat_minor": 2
}
