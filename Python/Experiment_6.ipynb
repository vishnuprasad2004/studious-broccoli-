{
 "cells": [
  {
   "cell_type": "markdown",
   "metadata": {},
   "source": [
    "# Assignment 6\n",
    "Date: 18:03:2024"
   ]
  },
  {
   "cell_type": "code",
   "execution_count": 1,
   "metadata": {},
   "outputs": [
    {
     "name": "stdout",
     "output_type": "stream",
     "text": [
      "The original list is  [1, 1, 2, 3, 1, 5, 7, 3, 5, 1]\n",
      "[[1, 1, 1, 1], [2], [3, 3], [5, 5], [7]]\n"
     ]
    }
   ],
   "source": [
    "# WAP tp print a matrix containing group of similar elements by giving the input randomly in another matrix\n",
    "from collections import Counter\n",
    "test_lst = [1,1,2,3,1,5,7,3,5,1]\n",
    "print(\"The original list is \",test_lst)\n",
    "temp = Counter(test_lst)\n",
    "res = [[key]*val for key,val in temp.items()]\n",
    "print(res)"
   ]
  },
  {
   "cell_type": "code",
   "execution_count": 9,
   "metadata": {},
   "outputs": [
    {
     "name": "stdout",
     "output_type": "stream",
     "text": [
      "[[1, 2, 3, 6], [1, 2, 3, 6], [1, 2, 3, 6]]\n"
     ]
    }
   ],
   "source": [
    "# WAP to print a matrix along with summation of row elements and column elements after entering a 3x3 matrix\n",
    "matrix = [[1,2,3],[1,2,3],[1,2,3]]\n",
    "for i in matrix: \n",
    "    i.append(sum(i))\n",
    "for i in range(3):\n",
    "    pass \n",
    "print(matrix)"
   ]
  },
  {
   "cell_type": "code",
   "execution_count": 19,
   "metadata": {},
   "outputs": [
    {
     "name": "stdout",
     "output_type": "stream",
     "text": [
      "[[1 1]\n",
      " [2 2]\n",
      " [3 3]\n",
      " [4 4]\n",
      " [5 5]\n",
      " [6 6]\n",
      " [7 7]\n",
      " [8 8]\n",
      " [9 9]\n",
      " [0 0]]\n"
     ]
    }
   ],
   "source": [
    "# WAP to print transpose of a matrix of order n*n\n",
    "import numpy as np\n",
    "r = int(input(\"how many rows:\"))\n",
    "print(np.array([list(map(int,input().split())) for _ in range(r)]).transpose())"
   ]
  },
  {
   "cell_type": "code",
   "execution_count": 1,
   "metadata": {},
   "outputs": [
    {
     "name": "stdout",
     "output_type": "stream",
     "text": [
      "True\n"
     ]
    }
   ],
   "source": [
    "# WAP to check if a value is present in the list or not using lambda function\n",
    "lst = list(map(int,input(\"Enter a list\").split()))\n",
    "a = int(input(\"Enter an item to find in the list:\"))\n",
    "find = lambda x: a in x\n",
    "print(find(lst))"
   ]
  },
  {
   "cell_type": "code",
   "execution_count": 8,
   "metadata": {},
   "outputs": [
    {
     "name": "stdout",
     "output_type": "stream",
     "text": [
      "1\n",
      "2\n",
      "3\n",
      "5\n",
      "8\n",
      "13\n",
      "21\n"
     ]
    }
   ],
   "source": [
    "# 5. WAP to print fibonacci series up to n terms using lambda functions\n",
    "\n",
    "fib = lambda n: n+1 if (n == 1 or n == 2 or n == 0) else fib(n-1) + fib(n-2)\n",
    "for i in range(int(input(\"Enter a number: \"))):\n",
    "    print(fib(i))"
   ]
  }
 ],
 "metadata": {
  "kernelspec": {
   "display_name": "base",
   "language": "python",
   "name": "python3"
  },
  "language_info": {
   "codemirror_mode": {
    "name": "ipython",
    "version": 3
   },
   "file_extension": ".py",
   "mimetype": "text/x-python",
   "name": "python",
   "nbconvert_exporter": "python",
   "pygments_lexer": "ipython3",
   "version": "3.11.5"
  }
 },
 "nbformat": 4,
 "nbformat_minor": 2
}
